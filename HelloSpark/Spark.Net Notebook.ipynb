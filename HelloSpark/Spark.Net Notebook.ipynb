{
  "cells": [
    {
      "cell_type": "code",
      "execution_count": 1,
      "metadata": {
        "dotnet_interactive": {
          "language": "csharp"
        }
      },
      "source": [
        "#r \"nuget:Microsoft.Spark, 2.1.1\""
      ],
      "outputs": [
        {
          "output_type": "execute_result",
          "data": {
            "text/html": [
              "<div><div></div><div></div><div><strong>Installed Packages</strong><ul><li><span>Microsoft.Spark, 2.1.1</span></li></ul></div></div>"
            ]
          },
          "execution_count": 1,
          "metadata": {}
        }
      ]
    },
    {
      "cell_type": "code",
      "execution_count": 1,
      "metadata": {
        "dotnet_interactive": {
          "language": "csharp"
        }
      },
      "source": [
        "using Microsoft.Spark.Sql;"
      ],
      "outputs": []
    },
    {
      "cell_type": "code",
      "execution_count": 1,
      "metadata": {
        "dotnet_interactive": {
          "language": "csharp"
        }
      },
      "source": [
        "var sparkSession =\n",
        "SparkSession\n",
        "    .Builder()\n",
        "    .AppName(\"dotnet-interactive-spark\")\n",
        "    .GetOrCreate();"
      ],
      "outputs": []
    },
    {
      "cell_type": "markdown",
      "metadata": {},
      "source": [
        "### Récupération du chemin"
      ]
    },
    {
      "cell_type": "code",
      "execution_count": 1,
      "metadata": {
        "dotnet_interactive": {
          "language": "csharp"
        }
      },
      "source": [
        "using Microsoft.DotNet.Interactive;\n",
        "\n",
        "var filePath = await Kernel.GetInputAsync(\"Chemin du fichier input.txt\");"
      ],
      "outputs": []
    },
    {
      "cell_type": "markdown",
      "metadata": {},
      "source": [
        "Chemin récupéré:"
      ]
    },
    {
      "cell_type": "code",
      "execution_count": 1,
      "metadata": {
        "dotnet_interactive": {
          "language": "csharp"
        }
      },
      "source": [
        "display(filePath);"
      ],
      "outputs": [
        {
          "output_type": "execute_result",
          "data": {
            "text/plain": [
              "E:\\Dev\\AI\\Cours\\TPs\\ESGF\\2023\\HelloSpark\\bin\\Debug\\netcoreapp3.1\\input.txt"
            ]
          },
          "execution_count": 1,
          "metadata": {}
        }
      ]
    },
    {
      "cell_type": "code",
      "execution_count": 1,
      "metadata": {
        "dotnet_interactive": {
          "language": "csharp"
        }
      },
      "source": [
        "using static Microsoft.Spark.Sql.Functions;\n",
        "\n",
        "//filePath = System.IO.Path.Combine(Environment.CurrentDirectory, @\".\\input.txt\");\n",
        "\n",
        "DataFrame dataFrame = sparkSession.Read().Text(filePath);\n",
        "\n",
        "//Count words\n",
        "\t\t\tDataFrame words =\n",
        "\t\t\t\tdataFrame\n",
        "\t\t\t\t\t.Select(Split(Col(\"value\"), \" \").Alias(\"words\"))\n",
        "\t\t\t\t\t.Select(Explode(Col(\"words\")).Alias(\"word\"))\n",
        "\t\t\t\t\t.GroupBy(\"word\")\n",
        "\t\t\t\t\t.Count()\n",
        "\t\t\t\t\t.OrderBy(Col(\"count\").Desc());\n",
        "\n",
        "\t\t\t// Display results\n",
        "\t\t\twords.Show();"
      ],
      "outputs": [
        {
          "output_type": "stream",
          "name": "stdout",
          "text": "+------+-----+\n|  word|count|\n+------+-----+\n|  .NET|    3|\n|Apache|    2|\n|  This|    2|\n| Spark|    2|\n|   app|    2|\n| World|    1|\n|   for|    1|\n|counts|    1|\n| words|    1|\n|  with|    1|\n|  uses|    1|\n| Hello|    1|\n+------+-----+\n"
        }
      ]
    }
  ],
  "metadata": {
    "kernelspec": {
      "display_name": ".NET (C#)",
      "language": "C#",
      "name": ".net-csharp"
    },
    "language_info": {
      "file_extension": ".cs",
      "mimetype": "text/x-csharp",
      "name": "C#",
      "pygments_lexer": "csharp",
      "version": "8.0"
    }
  },
  "nbformat": 4,
  "nbformat_minor": 4
}